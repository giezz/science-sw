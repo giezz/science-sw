{
 "cells": [
  {
   "cell_type": "code",
   "execution_count": 266,
   "metadata": {},
   "outputs": [],
   "source": [
    "import pandas as pd\n",
    "import numpy as np"
   ]
  },
  {
   "cell_type": "code",
   "execution_count": 267,
   "metadata": {},
   "outputs": [],
   "source": [
    "transactions = pd.read_csv(\"../data/transactions.csv\", sep=\";\", decimal=\",\")\n",
    "merchants = pd.read_csv(\"../data/merchants.csv\", sep=\";\", decimal=\",\")"
   ]
  },
  {
   "cell_type": "code",
   "execution_count": 268,
   "metadata": {},
   "outputs": [
    {
     "name": "stdout",
     "output_type": "stream",
     "text": [
      "<class 'pandas.core.frame.DataFrame'>\n",
      "RangeIndex: 99999 entries, 0 to 99998\n",
      "Data columns (total 9 columns):\n",
      " #   Column       Non-Null Count  Dtype  \n",
      "---  ------       --------------  -----  \n",
      " 0   citizenid    99999 non-null  int64  \n",
      " 1   cost         99999 non-null  float64\n",
      " 2   countertype  99999 non-null  object \n",
      " 3   date         99999 non-null  object \n",
      " 4   fraudbits    99999 non-null  int64  \n",
      " 5   logid        99999 non-null  int64  \n",
      " 6   marketid     99999 non-null  int64  \n",
      " 7   merchantid   99999 non-null  int64  \n",
      " 8   model_cost   99999 non-null  float64\n",
      "dtypes: float64(2), int64(5), object(2)\n",
      "memory usage: 6.9+ MB\n"
     ]
    }
   ],
   "source": [
    "transactions.info()"
   ]
  },
  {
   "cell_type": "code",
   "execution_count": 269,
   "metadata": {},
   "outputs": [
    {
     "name": "stdout",
     "output_type": "stream",
     "text": [
      "<class 'pandas.core.frame.DataFrame'>\n",
      "Index: 98719 entries, 0 to 99998\n",
      "Data columns (total 9 columns):\n",
      " #   Column       Non-Null Count  Dtype  \n",
      "---  ------       --------------  -----  \n",
      " 0   citizenid    98719 non-null  int64  \n",
      " 1   cost         98719 non-null  float64\n",
      " 2   countertype  98719 non-null  object \n",
      " 3   date         98719 non-null  object \n",
      " 4   fraudbits    98719 non-null  int64  \n",
      " 5   logid        98719 non-null  int64  \n",
      " 6   marketid     98719 non-null  int64  \n",
      " 7   merchantid   98719 non-null  int64  \n",
      " 8   model_cost   98719 non-null  float64\n",
      "dtypes: float64(2), int64(5), object(2)\n",
      "memory usage: 7.5+ MB\n"
     ]
    }
   ],
   "source": [
    "valid_transactions = transactions[transactions[\"fraudbits\"] == 0]\n",
    "valid_transactions.info()"
   ]
  },
  {
   "cell_type": "code",
   "execution_count": 270,
   "metadata": {},
   "outputs": [
    {
     "name": "stdout",
     "output_type": "stream",
     "text": [
      "<class 'pandas.core.frame.DataFrame'>\n",
      "RangeIndex: 13158 entries, 0 to 13157\n",
      "Data columns (total 3 columns):\n",
      " #   Column      Non-Null Count  Dtype  \n",
      "---  ------      --------------  -----  \n",
      " 0   coef        13158 non-null  float64\n",
      " 1   guild       13158 non-null  object \n",
      " 2   merchantid  13158 non-null  int64  \n",
      "dtypes: float64(1), int64(1), object(1)\n",
      "memory usage: 308.5+ KB\n"
     ]
    }
   ],
   "source": [
    "merchants.info()"
   ]
  },
  {
   "cell_type": "code",
   "execution_count": 271,
   "metadata": {},
   "outputs": [
    {
     "name": "stdout",
     "output_type": "stream",
     "text": [
      "<class 'pandas.core.frame.DataFrame'>\n",
      "RangeIndex: 98719 entries, 0 to 98718\n",
      "Data columns (total 11 columns):\n",
      " #   Column       Non-Null Count  Dtype  \n",
      "---  ------       --------------  -----  \n",
      " 0   citizenid    98719 non-null  int64  \n",
      " 1   cost         98719 non-null  float64\n",
      " 2   countertype  98719 non-null  object \n",
      " 3   date         98719 non-null  object \n",
      " 4   fraudbits    98719 non-null  int64  \n",
      " 5   logid        98719 non-null  int64  \n",
      " 6   marketid     98719 non-null  int64  \n",
      " 7   merchantid   98719 non-null  int64  \n",
      " 8   model_cost   98719 non-null  float64\n",
      " 9   coef         98719 non-null  float64\n",
      " 10  guild        98719 non-null  object \n",
      "dtypes: float64(3), int64(5), object(3)\n",
      "memory usage: 8.3+ MB\n"
     ]
    }
   ],
   "source": [
    "t_m = pd.merge(valid_transactions, merchants, on=\"merchantid\", how=\"inner\")\n",
    "t_m.info()"
   ]
  },
  {
   "cell_type": "code",
   "execution_count": 272,
   "metadata": {},
   "outputs": [
    {
     "data": {
      "text/html": [
       "<div>\n",
       "<style scoped>\n",
       "    .dataframe tbody tr th:only-of-type {\n",
       "        vertical-align: middle;\n",
       "    }\n",
       "\n",
       "    .dataframe tbody tr th {\n",
       "        vertical-align: top;\n",
       "    }\n",
       "\n",
       "    .dataframe thead th {\n",
       "        text-align: right;\n",
       "    }\n",
       "</style>\n",
       "<table border=\"1\" class=\"dataframe\">\n",
       "  <thead>\n",
       "    <tr style=\"text-align: right;\">\n",
       "      <th></th>\n",
       "      <th>citizenid</th>\n",
       "      <th>cost</th>\n",
       "      <th>countertype</th>\n",
       "      <th>date</th>\n",
       "      <th>fraudbits</th>\n",
       "      <th>logid</th>\n",
       "      <th>marketid</th>\n",
       "      <th>merchantid</th>\n",
       "      <th>model_cost</th>\n",
       "      <th>coef</th>\n",
       "      <th>guild</th>\n",
       "    </tr>\n",
       "  </thead>\n",
       "  <tbody>\n",
       "    <tr>\n",
       "      <th>0</th>\n",
       "      <td>8315932911717591684</td>\n",
       "      <td>7.39</td>\n",
       "      <td>buy</td>\n",
       "      <td>924-09-27 12:57</td>\n",
       "      <td>0</td>\n",
       "      <td>5694353424282632895</td>\n",
       "      <td>203</td>\n",
       "      <td>100299578</td>\n",
       "      <td>30.0</td>\n",
       "      <td>0.46</td>\n",
       "      <td>Гильдия Парфюмеров</td>\n",
       "    </tr>\n",
       "    <tr>\n",
       "      <th>1</th>\n",
       "      <td>831575341702446221</td>\n",
       "      <td>22.47</td>\n",
       "      <td>sell</td>\n",
       "      <td>924-09-27 15:48</td>\n",
       "      <td>0</td>\n",
       "      <td>5697043883537282758</td>\n",
       "      <td>1682513</td>\n",
       "      <td>445135</td>\n",
       "      <td>80.0</td>\n",
       "      <td>0.57</td>\n",
       "      <td>Ассоциация Оливковых Торговцев</td>\n",
       "    </tr>\n",
       "    <tr>\n",
       "      <th>2</th>\n",
       "      <td>8316302311724840691</td>\n",
       "      <td>9.81</td>\n",
       "      <td>buy</td>\n",
       "      <td>924-09-27 18:51</td>\n",
       "      <td>0</td>\n",
       "      <td>5699920682275914112</td>\n",
       "      <td>1820486</td>\n",
       "      <td>57512</td>\n",
       "      <td>690.0</td>\n",
       "      <td>0.86</td>\n",
       "      <td>Гильдия Обработчиков Шерсти</td>\n",
       "    </tr>\n",
       "    <tr>\n",
       "      <th>3</th>\n",
       "      <td>8316277211719765682</td>\n",
       "      <td>6.21</td>\n",
       "      <td>buy</td>\n",
       "      <td>924-09-27 20:05</td>\n",
       "      <td>0</td>\n",
       "      <td>5701086315294310757</td>\n",
       "      <td>203</td>\n",
       "      <td>90356927</td>\n",
       "      <td>32.5</td>\n",
       "      <td>0.42</td>\n",
       "      <td>Гильдия Обработчиков Шерсти</td>\n",
       "    </tr>\n",
       "    <tr>\n",
       "      <th>4</th>\n",
       "      <td>5107559044524868241</td>\n",
       "      <td>41.04</td>\n",
       "      <td>buy</td>\n",
       "      <td>924-09-27 05:55</td>\n",
       "      <td>0</td>\n",
       "      <td>5687717990978109338</td>\n",
       "      <td>183</td>\n",
       "      <td>64197274</td>\n",
       "      <td>450.0</td>\n",
       "      <td>0.50</td>\n",
       "      <td>Ассоциация Оливковых Торговцев</td>\n",
       "    </tr>\n",
       "  </tbody>\n",
       "</table>\n",
       "</div>"
      ],
      "text/plain": [
       "             citizenid   cost countertype             date  fraudbits  \\\n",
       "0  8315932911717591684   7.39         buy  924-09-27 12:57          0   \n",
       "1   831575341702446221  22.47        sell  924-09-27 15:48          0   \n",
       "2  8316302311724840691   9.81         buy  924-09-27 18:51          0   \n",
       "3  8316277211719765682   6.21         buy  924-09-27 20:05          0   \n",
       "4  5107559044524868241  41.04         buy  924-09-27 05:55          0   \n",
       "\n",
       "                 logid  marketid  merchantid  model_cost  coef  \\\n",
       "0  5694353424282632895       203   100299578        30.0  0.46   \n",
       "1  5697043883537282758   1682513      445135        80.0  0.57   \n",
       "2  5699920682275914112   1820486       57512       690.0  0.86   \n",
       "3  5701086315294310757       203    90356927        32.5  0.42   \n",
       "4  5687717990978109338       183    64197274       450.0  0.50   \n",
       "\n",
       "                            guild  \n",
       "0              Гильдия Парфюмеров  \n",
       "1  Ассоциация Оливковых Торговцев  \n",
       "2     Гильдия Обработчиков Шерсти  \n",
       "3     Гильдия Обработчиков Шерсти  \n",
       "4  Ассоциация Оливковых Торговцев  "
      ]
     },
     "execution_count": 272,
     "metadata": {},
     "output_type": "execute_result"
    }
   ],
   "source": [
    "t_m.head()"
   ]
  },
  {
   "cell_type": "code",
   "execution_count": 273,
   "metadata": {},
   "outputs": [
    {
     "data": {
      "text/plain": [
       "guild\n",
       "Союз Каменотесов                    0.125455\n",
       "Лига Стеклодувов                    0.125000\n",
       "Союз Судостроителей                 0.122625\n",
       "Гильдия Пекарей                     0.113617\n",
       "Братство Поставщиков Специй         0.113253\n",
       "Лига Керамистов                     0.111820\n",
       "Братство Виноделов                  0.111808\n",
       "Объединение Фруктовых Садовников    0.110625\n",
       "Ассоциация Оливковых Торговцев      0.107614\n",
       "Гильдия Обработчиков Шерсти         0.107331\n",
       "Братство Кузнецов                   0.106963\n",
       "Гильдия Августовских Торговцев      0.105953\n",
       "Объединение Рыбаков                 0.105563\n",
       "Союз Скотоводов                     0.105263\n",
       "Гильдия Парфюмеров                  0.104556\n",
       "Гильдия Гончаров                    0.104395\n",
       "Гильдия Мукомолов                   0.094317\n",
       "Общество Ювелиров                   0.065693\n",
       "dtype: float64"
      ]
     },
     "execution_count": 273,
     "metadata": {},
     "output_type": "execute_result"
    }
   ],
   "source": [
    "sales = t_m[t_m['countertype'] == 'sell']\n",
    "buys = t_m[t_m['countertype'] == 'buy']\n",
    "\n",
    "sell_counts = sales.groupby('guild').size()\n",
    "buy_counts = buys.groupby('guild').size()\n",
    "\n",
    "ratio = sell_counts / buy_counts\n",
    "ratio.sort_values(ascending=False)"
   ]
  },
  {
   "cell_type": "code",
   "execution_count": 274,
   "metadata": {},
   "outputs": [
    {
     "data": {
      "text/plain": [
       "guild\n",
       "Братство Кузнецов                   196.355958\n",
       "Братство Виноделов                  193.031781\n",
       "Объединение Фруктовых Садовников    154.031733\n",
       "Гильдия Обработчиков Шерсти         145.231554\n",
       "Союз Каменотесов                    126.410274\n",
       "Гильдия Пекарей                     116.603193\n",
       "Лига Керамистов                     105.405690\n",
       "Гильдия Августовских Торговцев       99.692990\n",
       "Гильдия Парфюмеров                   96.872213\n",
       "Союз Судостроителей                  90.625868\n",
       "Ассоциация Оливковых Торговцев       73.492571\n",
       "Гильдия Гончаров                     70.714000\n",
       "Братство Поставщиков Специй          62.856791\n",
       "Объединение Рыбаков                  45.960131\n",
       "Гильдия Мукомолов                    42.193482\n",
       "Союз Скотоводов                      39.890346\n",
       "Общество Ювелиров                    36.191350\n",
       "Лига Стеклодувов                     20.935466\n",
       "dtype: float64"
      ]
     },
     "execution_count": 274,
     "metadata": {},
     "output_type": "execute_result"
    }
   ],
   "source": [
    "t_m['amn'] = np.abs(t_m['cost'] - t_m['model_cost']) / t_m['coef']\n",
    "amn = t_m.groupby('guild').mean('amn')['amn']\n",
    "\n",
    "eff = ratio * amn\n",
    "eff.sort_values(ascending=False)"
   ]
  },
  {
   "cell_type": "code",
   "execution_count": 275,
   "metadata": {},
   "outputs": [
    {
     "data": {
      "text/html": [
       "<div>\n",
       "<style scoped>\n",
       "    .dataframe tbody tr th:only-of-type {\n",
       "        vertical-align: middle;\n",
       "    }\n",
       "\n",
       "    .dataframe tbody tr th {\n",
       "        vertical-align: top;\n",
       "    }\n",
       "\n",
       "    .dataframe thead th {\n",
       "        text-align: right;\n",
       "    }\n",
       "</style>\n",
       "<table border=\"1\" class=\"dataframe\">\n",
       "  <thead>\n",
       "    <tr style=\"text-align: right;\">\n",
       "      <th></th>\n",
       "      <th>citizenid</th>\n",
       "      <th>cost</th>\n",
       "      <th>countertype</th>\n",
       "      <th>date</th>\n",
       "      <th>fraudbits</th>\n",
       "      <th>logid</th>\n",
       "      <th>marketid</th>\n",
       "      <th>merchantid</th>\n",
       "      <th>model_cost</th>\n",
       "      <th>coef</th>\n",
       "      <th>guild</th>\n",
       "      <th>amn</th>\n",
       "      <th>hour</th>\n",
       "    </tr>\n",
       "  </thead>\n",
       "  <tbody>\n",
       "    <tr>\n",
       "      <th>95</th>\n",
       "      <td>1953395777835778130</td>\n",
       "      <td>37.12</td>\n",
       "      <td>sell</td>\n",
       "      <td>924-09-27 19:06</td>\n",
       "      <td>0</td>\n",
       "      <td>5700167659210753589</td>\n",
       "      <td>2427358</td>\n",
       "      <td>97943637</td>\n",
       "      <td>375.00</td>\n",
       "      <td>0.18</td>\n",
       "      <td>Братство Кузнецов</td>\n",
       "      <td>1877.111111</td>\n",
       "      <td>19</td>\n",
       "    </tr>\n",
       "    <tr>\n",
       "      <th>311</th>\n",
       "      <td>3358853221727247984</td>\n",
       "      <td>2.65</td>\n",
       "      <td>sell</td>\n",
       "      <td>924-09-27 00:30</td>\n",
       "      <td>0</td>\n",
       "      <td>5682615481518342785</td>\n",
       "      <td>203</td>\n",
       "      <td>10094301</td>\n",
       "      <td>36.00</td>\n",
       "      <td>0.09</td>\n",
       "      <td>Братство Кузнецов</td>\n",
       "      <td>370.555556</td>\n",
       "      <td>0</td>\n",
       "    </tr>\n",
       "    <tr>\n",
       "      <th>419</th>\n",
       "      <td>1896869501593448462</td>\n",
       "      <td>5.76</td>\n",
       "      <td>sell</td>\n",
       "      <td>924-09-27 13:31</td>\n",
       "      <td>0</td>\n",
       "      <td>5694886187368265839</td>\n",
       "      <td>8845410</td>\n",
       "      <td>97771991</td>\n",
       "      <td>150.00</td>\n",
       "      <td>0.25</td>\n",
       "      <td>Братство Кузнецов</td>\n",
       "      <td>576.960000</td>\n",
       "      <td>13</td>\n",
       "    </tr>\n",
       "    <tr>\n",
       "      <th>492</th>\n",
       "      <td>1192779761638385915</td>\n",
       "      <td>111.58</td>\n",
       "      <td>sell</td>\n",
       "      <td>924-09-27 08:21</td>\n",
       "      <td>0</td>\n",
       "      <td>5690021001541009765</td>\n",
       "      <td>183</td>\n",
       "      <td>303478799</td>\n",
       "      <td>400.00</td>\n",
       "      <td>0.05</td>\n",
       "      <td>Братство Кузнецов</td>\n",
       "      <td>5768.400000</td>\n",
       "      <td>8</td>\n",
       "    </tr>\n",
       "    <tr>\n",
       "      <th>609</th>\n",
       "      <td>1704222841720179491</td>\n",
       "      <td>68.09</td>\n",
       "      <td>sell</td>\n",
       "      <td>924-09-27 11:57</td>\n",
       "      <td>0</td>\n",
       "      <td>5693419315629392368</td>\n",
       "      <td>2</td>\n",
       "      <td>1987896</td>\n",
       "      <td>82.88</td>\n",
       "      <td>0.34</td>\n",
       "      <td>Братство Кузнецов</td>\n",
       "      <td>43.500000</td>\n",
       "      <td>11</td>\n",
       "    </tr>\n",
       "  </tbody>\n",
       "</table>\n",
       "</div>"
      ],
      "text/plain": [
       "               citizenid    cost countertype             date  fraudbits  \\\n",
       "95   1953395777835778130   37.12        sell  924-09-27 19:06          0   \n",
       "311  3358853221727247984    2.65        sell  924-09-27 00:30          0   \n",
       "419  1896869501593448462    5.76        sell  924-09-27 13:31          0   \n",
       "492  1192779761638385915  111.58        sell  924-09-27 08:21          0   \n",
       "609  1704222841720179491   68.09        sell  924-09-27 11:57          0   \n",
       "\n",
       "                   logid  marketid  merchantid  model_cost  coef  \\\n",
       "95   5700167659210753589   2427358    97943637      375.00  0.18   \n",
       "311  5682615481518342785       203    10094301       36.00  0.09   \n",
       "419  5694886187368265839   8845410    97771991      150.00  0.25   \n",
       "492  5690021001541009765       183   303478799      400.00  0.05   \n",
       "609  5693419315629392368         2     1987896       82.88  0.34   \n",
       "\n",
       "                 guild          amn  hour  \n",
       "95   Братство Кузнецов  1877.111111    19  \n",
       "311  Братство Кузнецов   370.555556     0  \n",
       "419  Братство Кузнецов   576.960000    13  \n",
       "492  Братство Кузнецов  5768.400000     8  \n",
       "609  Братство Кузнецов    43.500000    11  "
      ]
     },
     "execution_count": 275,
     "metadata": {},
     "output_type": "execute_result"
    }
   ],
   "source": [
    "guild = t_m[t_m['guild'] == 'Братство Кузнецов']\n",
    "guild = guild[guild['countertype'] == 'sell']\n",
    "guild['hour'] = guild['date'].str.split().str[1].str.split(':').str[0].astype(int)\n",
    "guild.head()"
   ]
  },
  {
   "cell_type": "code",
   "execution_count": 276,
   "metadata": {},
   "outputs": [
    {
     "data": {
      "text/plain": [
       "hour\n",
       "21    48\n",
       "13    44\n",
       "20    43\n",
       "17    39\n",
       "8     38\n",
       "10    38\n",
       "19    36\n",
       "14    35\n",
       "7     34\n",
       "16    33\n",
       "15    32\n",
       "12    31\n",
       "22    30\n",
       "9     30\n",
       "11    30\n",
       "18    29\n",
       "23    24\n",
       "6     17\n",
       "0     15\n",
       "5     12\n",
       "3      6\n",
       "2      6\n",
       "4      5\n",
       "1      4\n",
       "dtype: int64"
      ]
     },
     "execution_count": 276,
     "metadata": {},
     "output_type": "execute_result"
    }
   ],
   "source": [
    "hours = guild.groupby('hour').size()\n",
    "hours.sort_values(ascending=False)"
   ]
  },
  {
   "cell_type": "code",
   "execution_count": null,
   "metadata": {},
   "outputs": [],
   "source": []
  }
 ],
 "metadata": {
  "kernelspec": {
   "display_name": "base",
   "language": "python",
   "name": "python3"
  },
  "language_info": {
   "codemirror_mode": {
    "name": "ipython",
    "version": 3
   },
   "file_extension": ".py",
   "mimetype": "text/x-python",
   "name": "python",
   "nbconvert_exporter": "python",
   "pygments_lexer": "ipython3",
   "version": "3.12.4"
  }
 },
 "nbformat": 4,
 "nbformat_minor": 2
}
